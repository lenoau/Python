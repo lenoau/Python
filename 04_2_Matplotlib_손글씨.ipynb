{
 "cells": [
  {
   "cell_type": "markdown",
   "metadata": {},
   "source": [
    "load_digits 데이터셋은 손글씨 숫자 이미지를 포함한 8x8 픽셀 데이터를 제공하는 간단한 데이터셋: 교재 300\n",
    "\n",
    "NumPy 실습 과제\n",
    "a) 데이터 이해 및 기본 처리\n",
    "digits.data를 NumPy 배열로 확인하고 배열의 shape, 데이터 타입 등을 출력해 보세요.\n",
    "각 샘플 이미지 데이터를 8x8 배열로 변환하여 특정 샘플 이미지를 시각화해 보세요.\n",
    "각 이미지의 픽셀 값 평균을 구하세요.\n",
    "\n",
    "b) 숫자 필터링\n",
    "타겟 값(target)이 특정 숫자(예: 3)인 샘플만 필터링하여 별도의 배열로 저장하세요.\n",
    "필터링된 샘플의 평균 픽셀 값을 계산하세요.\n",
    "\n",
    "c) 데이터 변환\n",
    "모든 픽셀 값을 0~1 사이로 정규화하세요.\n",
    "\n",
    "Pandas 실습 과제\n",
    "a) 데이터프레임 생성 및 탐색\n",
    "digits.data와 digits.target을 결합하여 Pandas DataFrame을 생성하세요.\n",
    "각 숫자(0~9)가 몇 개씩 포함되어 있는지 확인하세요.\n",
    "\n",
    "b) 숫자별 통계\n",
    "각 숫자(0~9)에 대해 평균 픽셀 값을 계산하여 새로운 DataFrame으로 나타내세요.\n",
    "숫자별로 가장 밝은(최대 픽셀 값이 높은) 이미지를 찾으세요.\n",
    "\n",
    "c) 데이터 시각화\n",
    "각 숫자(0~9)에 대해 샘플 이미지를 시각화하는 함수 plot_sample_images를 작성하세요.\n",
    "숫자별 픽셀 값 분포를 박스 플롯(Box plot)으로 그리세요.\n",
    "\n",
    "\n",
    "종합 과제\n",
    "a) 이미지 분류 모델\n",
    "DataFrame에서 target 열을 제외한 데이터를 NumPy 배열로 변환하세요.\n",
    "분류를 위해 데이터를 훈련 세트와 테스트 세트로 나누세요.\n",
    "간단한 k-NN 또는 SVM 모델을 사용하여 숫자를 분류하는 코드를 작성하세요.\n",
    "\n",
    "b) EDA(탐색적 데이터 분석)\n",
    "각 숫자의 평균 이미지를 생성하여 시각화하세요.\n",
    "숫자별로 데이터의 분포를 비교하는 히스토그램을 작성하세요.\n",
    "\n",
    "5장 과제\n",
    "PCA를 사용한 차원 축소: digits.data의 차원을 줄여 2D 또는 3D로 시각화하세요.\n",
    "\n",
    "군집화: K-Means 알고리즘을 사용하여 데이터 포인트를 10개의 클러스터로 나누고 결과를 시각화하세요."
   ]
  },
  {
   "cell_type": "code",
   "execution_count": 11,
   "metadata": {},
   "outputs": [],
   "source": [
    "import seaborn as sb\n",
    "import numpy as np\n",
    "import matplotlib.pyplot as plt\n",
    "from sklearn.datasets import load_digits\n",
    "import pandas as pd"
   ]
  },
  {
   "cell_type": "code",
   "execution_count": 3,
   "metadata": {},
   "outputs": [
    {
     "data": {
      "image/png": "[encoded data removed]",
      "text/plain": [
       "<Figure size 600x600 with 64 Axes>"
      ]
     },
     "metadata": {},
     "output_type": "display_data"
    }
   ],
   "source": [
    "digits = load_digits()\n",
    "\n",
    "fig, ax = plt.subplots(8, 8, figsize=(6,6))\n",
    "\n",
    "for i, axi in enumerate(ax.flat):\n",
    "    axi.imshow(digits.images[i], cmap='binary')\n",
    "    axi.set(xticks=[], yticks=[])"
   ]
  },
  {
   "cell_type": "code",
   "execution_count": 4,
   "metadata": {},
   "outputs": [
    {
     "data": {
      "text/plain": [
       "(1797, 1, 8)"
      ]
     },
     "execution_count": 4,
     "metadata": {},
     "output_type": "execute_result"
    }
   ],
   "source": [
    "np.mean(digits.images, axis=1, keepdims=True).shape"
   ]
  },
  {
   "cell_type": "code",
   "execution_count": 5,
   "metadata": {},
   "outputs": [
    {
     "data": {
      "text/plain": [
       "((183,), np.float64(4.794313524590164))"
      ]
     },
     "execution_count": 5,
     "metadata": {},
     "output_type": "execute_result"
    }
   ],
   "source": [
    "digits.target[digits.target==3].shape, digits.images[digits.target==3].mean()"
   ]
  },
  {
   "cell_type": "code",
   "execution_count": null,
   "metadata": {},
   "outputs": [],
   "source": [
    "#필터링된 샘플의 평균 픽셀 값을 계산\n",
    "normal_images = (digits.images - digits.images.mean())\n",
    "normal_images.shape\n",
    "\n",
    "normal_images.mean(), digits.images.mean()\n",
    "\n",
    "min_max_normal = data.data / data.data.max()\n",
    "np.min(min_max_normal), np.max(min_max_normal)\n",
    "\n",
    "min_max_normal.shape\n",
    "\n",
    "plt.hist(min_max_normal)"
   ]
  },
  {
   "cell_type": "code",
   "execution_count": null,
   "metadata": {},
   "outputs": [],
   "source": [
    "mask = data.target == 3\n",
    "data.data[mask].shpae, data.data[mask].mean(), np.mean(data.data[mask], axis=1).shape"
   ]
  },
  {
   "cell_type": "code",
   "execution_count": 6,
   "metadata": {},
   "outputs": [
    {
     "data": {
      "text/plain": [
       "<matplotlib.image.AxesImage at 0x17237537890>"
      ]
     },
     "execution_count": 6,
     "metadata": {},
     "output_type": "execute_result"
    },
    {
     "data": {
      "image/png": "[encoded data removed]",
      "text/plain": [
       "<Figure size 640x480 with 1 Axes>"
      ]
     },
     "metadata": {},
     "output_type": "display_data"
    }
   ],
   "source": [
    "plt.imshow(digits.images[0], cmap='binary')"
   ]
  },
  {
   "cell_type": "code",
   "execution_count": 8,
   "metadata": {},
   "outputs": [
    {
     "data": {
      "text/plain": [
       "((1797, 64), (1797,))"
      ]
     },
     "execution_count": 8,
     "metadata": {},
     "output_type": "execute_result"
    }
   ],
   "source": [
    "digits.data.shape, digits.target.shape"
   ]
  },
  {
   "cell_type": "code",
   "execution_count": 10,
   "metadata": {},
   "outputs": [
    {
     "data": {
      "text/plain": [
       "(1797, 65)"
      ]
     },
     "execution_count": 10,
     "metadata": {},
     "output_type": "execute_result"
    }
   ],
   "source": [
    "raw_data = np.hstack([digits.data, digits.target.reshape(-1, 1)])\n",
    "raw_data.shape"
   ]
  },
  {
   "cell_type": "code",
   "execution_count": null,
   "metadata": {},
   "outputs": [],
   "source": [
    "df = pd.DataFrame(raw_data)\n",
    "df.columns = list(range(64)) + ['target']\n",
    "\n"
   ]
  }
 ],
 "metadata": {
  "kernelspec": {
   "display_name": "Python 3",
   "language": "python",
   "name": "python3"
  },
  "language_info": {
   "codemirror_mode": {
    "name": "ipython",
    "version": 3
   },
   "file_extension": ".py",
   "mimetype": "text/x-python",
   "name": "python",
   "nbconvert_exporter": "python",
   "pygments_lexer": "ipython3",
   "version": "3.13.0"
  }
 },
 "nbformat": 4,
 "nbformat_minor": 2
}
