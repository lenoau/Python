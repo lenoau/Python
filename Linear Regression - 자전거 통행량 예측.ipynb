{
 "cells": [
  {
   "cell_type": "markdown",
   "id": "4d1fce39-44d1-4e93-a624-dae892f8234a",
   "metadata": {},
   "source": [
    "# 과제 10-5장 Linear Regression - 자전거 통행량 예측"
   ]
  },
  {
   "cell_type": "markdown",
   "id": "f26f0019-2290-4265-bd65-058a7833aa9d",
   "metadata": {},
   "source": [
    "시애틀 프리몬트 다리를 지나는 자전거 통행량을 날씨와 계절, 기타 요인에 따라 예측하시오. (p436 참고)"
   ]
  },
  {
   "cell_type": "markdown",
   "id": "f8e3dcd6-d2f7-4e29-9e71-4425591b3ecb",
   "metadata": {},
   "source": [
    "<img src=\"https://images.seattletimes.com/wp-content/uploads/2020/01/01022020_bike-count_114545.jpg?d=2040x1360\" width=400>\n",
    "\n",
    "Ken Lambert, \"Bike ridership hits record highs on 2 Seattle routes\", The Seattle Times, Jan. 6, 2020"
   ]
  },
  {
   "cell_type": "markdown",
   "id": "73847352-30c6-49f9-9076-758f78697797",
   "metadata": {},
   "source": [
    "1. 교재에서 제공하는 FremontBridge.csv 파일과 SeattleWeather.csv 파일을 읽어 pandas 의 DataFrame 을 각각 생성하시오. (https://github.com/jakevdp/bicycle-data)\n",
    "2. 2020 년 이전 데이터만 선택하시오.\n",
    "3. 일별 총 자전거 통행량을 계산하고, 그 계산 결과를 'counts' 컬럼에 추가하시오.\n",
    "4. 월요일~일요일까지 요일을 이진 데이터로 각각 인코딩 하고, 그 결과를 요일을 나타내는 컬럼들(7개)에 추가하시오.\n",
    "5. 공휴일 여부를 이진 데이터로 인코딩 하고, 그 결과를 'holiday' 컬럼에 추가하시오.\n",
    "6. 일자별 평균 날씨 (TAVG) 를 계산한 후, 'temp' 컬럼에 추가하시오.\n",
    "7. 일자별 강수량(PRCP)을 계산한 후, 'rainfall' 컬럼에 추가하시오.\n",
    "8. 데이터에서 NA 를 제거하시오.\n",
    "9. LinearRegression 모델을 이용하여 자전거 통행량을 예측하시오.\n",
    "10. Matplotlib 를 이용하여 예측 결과를 시각화 하시오.\n"
   ]
  },
  {
   "cell_type": "code",
   "execution_count": 37,
   "id": "36f11814-9dc1-4f56-b473-c88b46d62b3f",
   "metadata": {},
   "outputs": [],
   "source": [
    "import numpy as np\n",
    "import matplotlib.pyplot as plt\n",
    "import pandas as pd\n",
    "import seaborn as sb\n"
   ]
  },
  {
   "cell_type": "code",
   "execution_count": 27,
   "id": "9164ab42",
   "metadata": {},
   "outputs": [
    {
     "name": "stderr",
     "output_type": "stream",
     "text": [
      "C:\\Users\\user\\AppData\\Local\\Temp\\ipykernel_6816\\170574722.py:1: UserWarning: Could not infer format, so each element will be parsed individually, falling back to `dateutil`. To ensure parsing is consistent and as-expected, please specify a format.\n",
      "  FB_read = pd.read_csv('FremontBridge.csv', index_col='Date', parse_dates=True).sort_index()\n"
     ]
    },
    {
     "name": "stdout",
     "output_type": "stream",
     "text": [
      "                     Total  East  West\n",
      "Date                                  \n",
      "2012-10-03 00:00:00   13.0   4.0   9.0\n",
      "2012-10-03 00:00:00   13.0   4.0   9.0\n",
      "2012-10-03 01:00:00   10.0   4.0   6.0\n",
      "2012-10-03 01:00:00   10.0   4.0   6.0\n",
      "2012-10-03 02:00:00    2.0   1.0   1.0\n",
      "...                    ...   ...   ...\n",
      "2021-12-31 19:00:00    0.0   0.0   0.0\n",
      "2021-12-31 20:00:00    0.0   0.0   0.0\n",
      "2021-12-31 21:00:00    0.0   0.0   0.0\n",
      "2021-12-31 22:00:00    0.0   0.0   0.0\n",
      "2021-12-31 23:00:00    0.0   0.0   0.0\n",
      "\n",
      "[147278 rows x 3 columns]\n"
     ]
    }
   ],
   "source": [
    "FB_read = pd.read_csv('FremontBridge.csv', index_col='Date', parse_dates=True).sort_index()\n",
    "FB_read.columns = ['Total', 'East', 'West']\n",
    "SW_read = pd.read_csv('SeattleWeather.csv', index_col= 'DATE', parse_dates=True).sort_index()\n",
    "\n",
    "print(FB_read)"
   ]
  },
  {
   "cell_type": "code",
   "execution_count": 46,
   "id": "31570851",
   "metadata": {},
   "outputs": [
    {
     "data": {
      "text/html": [
       "<div>\n",
       "<style scoped>\n",
       "    .dataframe tbody tr th:only-of-type {\n",
       "        vertical-align: middle;\n",
       "    }\n",
       "\n",
       "    .dataframe tbody tr th {\n",
       "        vertical-align: top;\n",
       "    }\n",
       "\n",
       "    .dataframe thead th {\n",
       "        text-align: right;\n",
       "    }\n",
       "</style>\n",
       "<table border=\"1\" class=\"dataframe\">\n",
       "  <thead>\n",
       "    <tr style=\"text-align: right;\">\n",
       "      <th></th>\n",
       "      <th>Total</th>\n",
       "      <th>East</th>\n",
       "      <th>West</th>\n",
       "    </tr>\n",
       "    <tr>\n",
       "      <th>Date</th>\n",
       "      <th></th>\n",
       "      <th></th>\n",
       "      <th></th>\n",
       "    </tr>\n",
       "  </thead>\n",
       "  <tbody>\n",
       "    <tr>\n",
       "      <th>2012-10-03 00:00:00</th>\n",
       "      <td>13.0</td>\n",
       "      <td>4.0</td>\n",
       "      <td>9.0</td>\n",
       "    </tr>\n",
       "    <tr>\n",
       "      <th>2012-10-03 00:00:00</th>\n",
       "      <td>13.0</td>\n",
       "      <td>4.0</td>\n",
       "      <td>9.0</td>\n",
       "    </tr>\n",
       "    <tr>\n",
       "      <th>2012-10-03 01:00:00</th>\n",
       "      <td>10.0</td>\n",
       "      <td>4.0</td>\n",
       "      <td>6.0</td>\n",
       "    </tr>\n",
       "    <tr>\n",
       "      <th>2012-10-03 01:00:00</th>\n",
       "      <td>10.0</td>\n",
       "      <td>4.0</td>\n",
       "      <td>6.0</td>\n",
       "    </tr>\n",
       "    <tr>\n",
       "      <th>2012-10-03 02:00:00</th>\n",
       "      <td>2.0</td>\n",
       "      <td>1.0</td>\n",
       "      <td>1.0</td>\n",
       "    </tr>\n",
       "    <tr>\n",
       "      <th>...</th>\n",
       "      <td>...</td>\n",
       "      <td>...</td>\n",
       "      <td>...</td>\n",
       "    </tr>\n",
       "    <tr>\n",
       "      <th>2019-12-31 21:00:00</th>\n",
       "      <td>15.0</td>\n",
       "      <td>8.0</td>\n",
       "      <td>7.0</td>\n",
       "    </tr>\n",
       "    <tr>\n",
       "      <th>2019-12-31 22:00:00</th>\n",
       "      <td>15.0</td>\n",
       "      <td>5.0</td>\n",
       "      <td>10.0</td>\n",
       "    </tr>\n",
       "    <tr>\n",
       "      <th>2019-12-31 22:00:00</th>\n",
       "      <td>15.0</td>\n",
       "      <td>5.0</td>\n",
       "      <td>10.0</td>\n",
       "    </tr>\n",
       "    <tr>\n",
       "      <th>2019-12-31 23:00:00</th>\n",
       "      <td>16.0</td>\n",
       "      <td>7.0</td>\n",
       "      <td>9.0</td>\n",
       "    </tr>\n",
       "    <tr>\n",
       "      <th>2019-12-31 23:00:00</th>\n",
       "      <td>16.0</td>\n",
       "      <td>7.0</td>\n",
       "      <td>9.0</td>\n",
       "    </tr>\n",
       "  </tbody>\n",
       "</table>\n",
       "<p>127008 rows × 3 columns</p>\n",
       "</div>"
      ],
      "text/plain": [
       "                     Total  East  West\n",
       "Date                                  \n",
       "2012-10-03 00:00:00   13.0   4.0   9.0\n",
       "2012-10-03 00:00:00   13.0   4.0   9.0\n",
       "2012-10-03 01:00:00   10.0   4.0   6.0\n",
       "2012-10-03 01:00:00   10.0   4.0   6.0\n",
       "2012-10-03 02:00:00    2.0   1.0   1.0\n",
       "...                    ...   ...   ...\n",
       "2019-12-31 21:00:00   15.0   8.0   7.0\n",
       "2019-12-31 22:00:00   15.0   5.0  10.0\n",
       "2019-12-31 22:00:00   15.0   5.0  10.0\n",
       "2019-12-31 23:00:00   16.0   7.0   9.0\n",
       "2019-12-31 23:00:00   16.0   7.0   9.0\n",
       "\n",
       "[127008 rows x 3 columns]"
      ]
     },
     "execution_count": 46,
     "metadata": {},
     "output_type": "execute_result"
    }
   ],
   "source": [
    "FB_read[: '2019']\n",
    "#FB_read = FB_read[FB_read.index < \"2020-01-01\"]\n",
    "#X = FB_read[pd.DatetimeIndex(FB_read.index).year < 2020] "
   ]
  },
  {
   "cell_type": "code",
   "execution_count": 53,
   "id": "705b72d4",
   "metadata": {},
   "outputs": [
    {
     "name": "stdout",
     "output_type": "stream",
     "text": [
      "             Total    East    West\n",
      "Date                              \n",
      "2012-10-03  7042.0  3520.0  3522.0\n",
      "2012-10-04  6950.0  3416.0  3534.0\n",
      "2012-10-05  6296.0  3116.0  3180.0\n",
      "2012-10-06  4012.0  2160.0  1852.0\n",
      "2012-10-07  4284.0  2382.0  1902.0\n",
      "...            ...     ...     ...\n",
      "2021-12-27    74.0    23.0    51.0\n",
      "2021-12-28    91.0    32.0    59.0\n",
      "2021-12-29    75.0    32.0    43.0\n",
      "2021-12-30    77.0    37.0    40.0\n",
      "2021-12-31    52.0    31.0    21.0\n",
      "\n",
      "[3377 rows x 3 columns]\n"
     ]
    }
   ],
   "source": [
    "daily = FB_read.resample('d').sum()\n",
    "print(daily)\n"
   ]
  },
  {
   "cell_type": "code",
   "execution_count": 55,
   "id": "cba9db37",
   "metadata": {},
   "outputs": [],
   "source": [
    "days = ['Mon', 'Tue', 'Wed', 'Thu', 'Fri', 'Sat', 'Sun']\n",
    "for i in range(7):\n",
    "    daily[days[i]] = (daily.index.dayofweek == i).astype(float)"
   ]
  },
  {
   "cell_type": "code",
   "execution_count": 56,
   "id": "efd3809d",
   "metadata": {},
   "outputs": [],
   "source": [
    "from pandas.tseries.holiday import USFederalHolidayCalendar\n",
    "cal = USFederalHolidayCalendar()\n",
    "holidays = cal.holidays('2012', '2020')\n",
    "daily = daily.join(pd.Series(1, index=holidays, name='holidays'))"
   ]
  },
  {
   "cell_type": "code",
   "execution_count": null,
   "id": "de8fadf2",
   "metadata": {},
   "outputs": [],
   "source": [
    "SW_read['Temp (F)'] =0.5 * (SW_read['TMIN'] + SW_read['TMAX'])"
   ]
  }
 ],
 "metadata": {
  "kernelspec": {
   "display_name": "Python 3",
   "language": "python",
   "name": "python3"
  },
  "language_info": {
   "codemirror_mode": {
    "name": "ipython",
    "version": 3
   },
   "file_extension": ".py",
   "mimetype": "text/x-python",
   "name": "python",
   "nbconvert_exporter": "python",
   "pygments_lexer": "ipython3",
   "version": "3.13.0"
  }
 },
 "nbformat": 4,
 "nbformat_minor": 5
}
