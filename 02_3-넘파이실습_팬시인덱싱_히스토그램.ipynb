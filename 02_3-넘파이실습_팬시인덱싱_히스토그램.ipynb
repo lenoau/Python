{
 "cells": [
  {
   "cell_type": "markdown",
   "metadata": {},
   "source": [
    "과제3: 정규분포 난수로 히스토그램 만들기 (팬시 인덱싱과 브로드캐스팅 활용)\n",
    "목표: 난수를 생성하고, 직접 구간에 속하는 인덱스를 계산하여 히스토그램을 생성. np.searchsorted를 사용하지 않고 각 값이 어느 구간에 속하는지 확인.\n",
    "\n",
    "구현 순서:\n",
    "\n",
    "1. 난수 생성:\n",
    "\n",
    "평균이 0, 표준편차가 1인 정규분포에서 난수 10,000개를 생성하여 data 배열에 저장.\n",
    "\n",
    "2. 구간 설정:\n",
    "\n",
    "-10에서 10까지 20개의 구간을 균등하게 나누어 bins 배열.\n",
    "이 구간들은 히스토그램의 각 구간 경계.\n",
    "\n",
    "3. 구간 인덱스 계산:\n",
    "\n",
    "data의 각 값이 어느 구간에 속하는지 직접 계산하여 구간 인덱스 배열 indices에 저장.\n",
    "예를 들어, data의 값이 특정 구간에 속하면 indices 배열에 그 구간 인덱스를 기록합니다.\n",
    "이 과정에서 브로드캐스팅과 팬시 인덱싱을 활용하여 효율적으로 구간 인덱스를 계산.\n",
    "\n",
    "4. 누적 카운팅:\n",
    "\n",
    "구한 indices 값을 사용하여, 각 구간별로 카운트를 계산.\n",
    "팬시 인덱싱을 통해 indices에 해당하는 counts 위치에 1씩 누적.\n",
    "\n",
    "5. 결과 시각화:\n",
    "\n",
    "구간별 빈도수를 그래프로 시각화하여 히스토그램.\n",
    "bins와 counts를 사용하여 히스토그램이 올바르게 그려졌는지 확인."
   ]
  },
  {
   "cell_type": "code",
   "execution_count": 93,
   "metadata": {},
   "outputs": [
    {
     "data": {
      "text/plain": [
       "(array([-0.92575648,  0.39264196, -0.80972866, ...,  2.22937855,\n",
       "         0.33108226,  0.42679972]),\n",
       " (10000,))"
      ]
     },
     "execution_count": 93,
     "metadata": {},
     "output_type": "execute_result"
    }
   ],
   "source": [
    "import numpy as np\n",
    "import matplotlib.pyplot as plt\n",
    "\n",
    "data = np.random.normal(0, 1, 10000)\n",
    "\n",
    "data, data.shape"
   ]
  },
  {
   "cell_type": "code",
   "execution_count": 107,
   "metadata": {},
   "outputs": [
    {
     "data": {
      "text/plain": [
       "(array([-10.,  -9.,  -8.,  -7.,  -6.,  -5.,  -4.,  -3.,  -2.,  -1.,   0.,\n",
       "          1.,   2.,   3.,   4.,   5.,   6.,   7.,   8.,   9.,  10.]),\n",
       " (21,))"
      ]
     },
     "execution_count": 107,
     "metadata": {},
     "output_type": "execute_result"
    }
   ],
   "source": [
    "bins = np.linspace(-10, 10, 21)\n",
    "\n",
    "bins, bins.shape"
   ]
  },
  {
   "cell_type": "code",
   "execution_count": null,
   "metadata": {},
   "outputs": [],
   "source": [
    "indices = np.searchsorted(bins, data) "
   ]
  },
  {
   "cell_type": "code",
   "execution_count": 109,
   "metadata": {},
   "outputs": [],
   "source": [
    "counts = np.zeros_like(bins)\n",
    "\n",
    "np.add.at(counts, indices , 1)"
   ]
  },
  {
   "cell_type": "code",
   "execution_count": 111,
   "metadata": {},
   "outputs": [
    {
     "data": {
      "text/plain": [
       "[<matplotlib.lines.Line2D at 0x166d76378d0>]"
      ]
     },
     "execution_count": 111,
     "metadata": {},
     "output_type": "execute_result"
    },
    {
     "data": {
      "image/png": "[encoded data removed]",
      "text/plain": [
       "<Figure size 640x480 with 1 Axes>"
      ]
     },
     "metadata": {},
     "output_type": "display_data"
    }
   ],
   "source": [
    "plt.plot(bins, counts, linestyle='--', drawstyle='steps')"
   ]
  }
 ],
 "metadata": {
  "kernelspec": {
   "display_name": "Python 3",
   "language": "python",
   "name": "python3"
  },
  "language_info": {
   "codemirror_mode": {
    "name": "ipython",
    "version": 3
   },
   "file_extension": ".py",
   "mimetype": "text/x-python",
   "name": "python",
   "nbconvert_exporter": "python",
   "pygments_lexer": "ipython3",
   "version": "3.11.7"
  }
 },
 "nbformat": 4,
 "nbformat_minor": 2
}
