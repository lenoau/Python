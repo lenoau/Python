{
 "cells": [
  {
   "cell_type": "code",
   "execution_count": 1,
   "metadata": {},
   "outputs": [],
   "source": [
    "%config InlineBackend.figure_format = \"retina\"\n",
    "%config InlineBackend.figure_formats = [\"pdf\", \"svg\"]\n",
    "from preamble import *"
   ]
  },
  {
   "cell_type": "markdown",
   "metadata": {},
   "source": [
    "전처리\n",
    "\n",
    "    - 전처리 과정에서 pandas로 변환하면 좋다"
   ]
  },
  {
   "cell_type": "code",
   "execution_count": 2,
   "metadata": {},
   "outputs": [],
   "source": [
    "df_train = pd.read_csv('./data/ratings_train.txt', delimiter='\\t', keep_default_na=False)\n",
    "df_test = pd.read_csv('./data/ratings_train.txt', delimiter='\\t', keep_default_na=False)"
   ]
  },
  {
   "cell_type": "code",
   "execution_count": 3,
   "metadata": {},
   "outputs": [
    {
     "name": "stdout",
     "output_type": "stream",
     "text": [
      "150000 150000\n"
     ]
    }
   ],
   "source": [
    "text_train, y_train = df_train['document'].values, df_train['label'].values\n",
    "text_test, y_test = df_test['document'].values, df_test['label'].values\n",
    "\n",
    "print(len(text_train), len(text_test))"
   ]
  },
  {
   "cell_type": "markdown",
   "metadata": {},
   "source": [
    "특징추출\n",
    "\n",
    "    -특징 추출시 문자 -> 숫자로 변환해야함 (한국어설치 => pip install konlpy 입력)\n",
    "    -문자 토큰화 -> from konlpy.tag import Okt\n",
    "    -문자 숫자화 -> from sklearn.feature_extraction.text import CountVectorizer\n",
    "        -숫자화시 너무 많이 나오는 단어 or 너무 희소한 단어는 추출 하지 않는것이 좋다 (min_df = 5, max_df = 0.9) -> 5번 이하 90%이상 나오는 단어 추출 X"
   ]
  },
  {
   "cell_type": "code",
   "execution_count": 6,
   "metadata": {},
   "outputs": [
    {
     "name": "stdout",
     "output_type": "stream",
     "text": [
      "형태소 : ['한국어', '분석', '을', '시작', '해봐요', '!']\n",
      "품사 : [('한국어', 'Noun'), ('분석', 'Noun'), ('을', 'Josa'), ('시작', 'Noun'), ('해봐요', 'Verb'), ('!', 'Punctuation')]\n",
      "nouns : ['한국어', '분석', '시작']\n"
     ]
    }
   ],
   "source": [
    "from konlpy.tag import Okt\n",
    "okt = Okt()\n",
    "ko_text = \"한국어 분석을 시작해봐요!\"\n",
    "morphs = okt.morphs(ko_text)\n",
    "pos = okt.pos(ko_text)\n",
    "nouns = okt.nouns(ko_text)\n",
    "\n",
    "print(f'형태소 : {morphs}')\n",
    "print(f'품사 : {pos}')\n",
    "print(f'nouns : {nouns}')"
   ]
  },
  {
   "cell_type": "code",
   "execution_count": 8,
   "metadata": {},
   "outputs": [],
   "source": [
    "okt=Okt()\n",
    "def okt_tokenizer(text):\n",
    "    return okt.morphs(text)"
   ]
  },
  {
   "cell_type": "code",
   "execution_count": 13,
   "metadata": {},
   "outputs": [],
   "source": [
    "from sklearn.feature_extraction.text import CountVectorizer, TfidfVectorizer\n",
    "#vectorizer = CountVectorizer(tokenizer=okt_tokenizer, token_pattern=None, min_df=5, max_df=0.9)\n",
    "vectorizer = TfidfVectorizer(tokenizer=okt_tokenizer, token_pattern=None, ngram_range=(1,2), min_df=5, max_df=0.9)\n",
    "X_train = vectorizer.fit_transform(text_train)\n",
    "X_test = vectorizer.fit_transform(text_test)"
   ]
  },
  {
   "cell_type": "code",
   "execution_count": 14,
   "metadata": {},
   "outputs": [
    {
     "data": {
      "text/plain": [
       "0.6427048972941163"
      ]
     },
     "execution_count": 14,
     "metadata": {},
     "output_type": "execute_result"
    }
   ],
   "source": [
    "from sklearn.linear_model import LinearRegression\n",
    "lr = LinearRegression()\n",
    "lr.fit(X_train, y_train)\n",
    "lr.score(X_train, y_train)"
   ]
  }
 ],
 "metadata": {
  "kernelspec": {
   "display_name": "torch_book",
   "language": "python",
   "name": "python3"
  },
  "language_info": {
   "codemirror_mode": {
    "name": "ipython",
    "version": 3
   },
   "file_extension": ".py",
   "mimetype": "text/x-python",
   "name": "python",
   "nbconvert_exporter": "python",
   "pygments_lexer": "ipython3",
   "version": "3.12.6"
  }
 },
 "nbformat": 4,
 "nbformat_minor": 2
}
