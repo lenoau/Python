{
 "cells": [
  {
   "cell_type": "markdown",
   "metadata": {
    "id": "PKXjV0eXpK18"
   },
   "source": [
    "# 결정트리\n",
    "\n",
    "- (개정판)파이썬 라이브러리를 활용한 머신러닝, 한빛미디어, 2019.\n",
    "    - 2.3.5 결정트리(decision tree)"
   ]
  },
  {
   "cell_type": "markdown",
   "metadata": {},
   "source": [
    "## 공통"
   ]
  },
  {
   "cell_type": "code",
   "execution_count": 5,
   "metadata": {},
   "outputs": [],
   "source": [
    "%config InlineBackend.figure_format = \"retina\"\n",
    "%config InlineBackend.figure_formats = [\"pdf\", \"svg\"]"
   ]
  },
  {
   "cell_type": "code",
   "execution_count": 7,
   "metadata": {
    "hide_input": false,
    "id": "FyNjH-_qpK2E",
    "scrolled": true
   },
   "outputs": [],
   "source": [
    "from preamble import *"
   ]
  },
  {
   "cell_type": "markdown",
   "metadata": {},
   "source": [
    "## 결정 트리를 활용한 회귀"
   ]
  },
  {
   "cell_type": "markdown",
   "metadata": {},
   "source": [
    "### DT-Q5 결정트리를 사용해서 `ram_price`을 분석하여, 가격을 예측하세요.\n",
    "- [ ] DT-Q5(a). pandas를 사용해서 \"ram_price.csv\" 파일을 `ram_prices` 객체를 생성하세요."
   ]
  },
  {
   "cell_type": "code",
   "execution_count": 8,
   "metadata": {
    "colab": {
     "base_uri": "https://localhost:8080/",
     "height": 452
    },
    "id": "q81lXXWCpK2e",
    "outputId": "48d17227-b659-4efe-bec1-64cbaac159a2"
   },
   "outputs": [
    {
     "data": {
      "text/html": [
       "<div>\n",
       "<style scoped>\n",
       "    .dataframe tbody tr th:only-of-type {\n",
       "        vertical-align: middle;\n",
       "    }\n",
       "\n",
       "    .dataframe tbody tr th {\n",
       "        vertical-align: top;\n",
       "    }\n",
       "\n",
       "    .dataframe thead th {\n",
       "        text-align: right;\n",
       "    }\n",
       "</style>\n",
       "<table border=\"1\" class=\"dataframe\">\n",
       "  <thead>\n",
       "    <tr style=\"text-align: right;\">\n",
       "      <th></th>\n",
       "      <th>Unnamed: 0</th>\n",
       "      <th>date</th>\n",
       "      <th>price</th>\n",
       "    </tr>\n",
       "  </thead>\n",
       "  <tbody>\n",
       "    <tr>\n",
       "      <th>0</th>\n",
       "      <td>0</td>\n",
       "      <td>1957.00</td>\n",
       "      <td>4.11e+08</td>\n",
       "    </tr>\n",
       "    <tr>\n",
       "      <th>1</th>\n",
       "      <td>1</td>\n",
       "      <td>1959.00</td>\n",
       "      <td>6.79e+07</td>\n",
       "    </tr>\n",
       "    <tr>\n",
       "      <th>2</th>\n",
       "      <td>2</td>\n",
       "      <td>1960.00</td>\n",
       "      <td>5.24e+06</td>\n",
       "    </tr>\n",
       "    <tr>\n",
       "      <th>3</th>\n",
       "      <td>3</td>\n",
       "      <td>1965.00</td>\n",
       "      <td>2.64e+06</td>\n",
       "    </tr>\n",
       "    <tr>\n",
       "      <th>4</th>\n",
       "      <td>4</td>\n",
       "      <td>1970.00</td>\n",
       "      <td>7.34e+05</td>\n",
       "    </tr>\n",
       "    <tr>\n",
       "      <th>...</th>\n",
       "      <td>...</td>\n",
       "      <td>...</td>\n",
       "      <td>...</td>\n",
       "    </tr>\n",
       "    <tr>\n",
       "      <th>328</th>\n",
       "      <td>328</td>\n",
       "      <td>2015.58</td>\n",
       "      <td>4.50e-03</td>\n",
       "    </tr>\n",
       "    <tr>\n",
       "      <th>329</th>\n",
       "      <td>329</td>\n",
       "      <td>2015.67</td>\n",
       "      <td>4.30e-03</td>\n",
       "    </tr>\n",
       "    <tr>\n",
       "      <th>330</th>\n",
       "      <td>330</td>\n",
       "      <td>2015.75</td>\n",
       "      <td>4.20e-03</td>\n",
       "    </tr>\n",
       "    <tr>\n",
       "      <th>331</th>\n",
       "      <td>331</td>\n",
       "      <td>2015.83</td>\n",
       "      <td>3.80e-03</td>\n",
       "    </tr>\n",
       "    <tr>\n",
       "      <th>332</th>\n",
       "      <td>332</td>\n",
       "      <td>2015.92</td>\n",
       "      <td>3.70e-03</td>\n",
       "    </tr>\n",
       "  </tbody>\n",
       "</table>\n",
       "<p>333 rows × 3 columns</p>\n",
       "</div>"
      ],
      "text/plain": [
       "     Unnamed: 0     date     price\n",
       "0             0  1957.00  4.11e+08\n",
       "1             1  1959.00  6.79e+07\n",
       "2             2  1960.00  5.24e+06\n",
       "3             3  1965.00  2.64e+06\n",
       "4             4  1970.00  7.34e+05\n",
       "..          ...      ...       ...\n",
       "328         328  2015.58  4.50e-03\n",
       "329         329  2015.67  4.30e-03\n",
       "330         330  2015.75  4.20e-03\n",
       "331         331  2015.83  3.80e-03\n",
       "332         332  2015.92  3.70e-03\n",
       "\n",
       "[333 rows x 3 columns]"
      ]
     },
     "execution_count": 8,
     "metadata": {},
     "output_type": "execute_result"
    }
   ],
   "source": [
    "ram_prices = pd.read_csv(\"data/ram_price.csv\")\n",
    "\n",
    "ram_prices\n"
   ]
  },
  {
   "cell_type": "markdown",
   "metadata": {},
   "source": [
    "- [ ] DT-Q5(b). `ram_prices` 변수를 `년도/가격` 그래프로 표현하세요.\n",
    "    - y축의 지수에 `-`값을 표현할 수 없기 때문에 y축의 폰트를 `consolas`로 변경하세요.\n",
    "    - x축과 y축에 label을 표시하세요(\"년\" / \"가격 ($/Mbyte)\")\n",
    "    - 일반적인 선 그래프를 사용하세요.   "
   ]
  },
  {
   "cell_type": "code",
   "execution_count": null,
   "metadata": {},
   "outputs": [],
   "source": [
    "plt.plot(ram_prices.date, ram_prices.price)\n",
    "plt.xlabel(\"년도\")\n",
    "plt.ylabel(\"가격 ($/Mbyte)\")\n",
    "plt.show()"
   ]
  },
  {
   "cell_type": "markdown",
   "metadata": {},
   "source": [
    "- [ ] DT-Q5(c). `ram_prices` 변수를 `년도/가격` 그래프로 표현하세요.\n",
    "    - 해당 그래프를 `log` 그래프로 변경하세요."
   ]
  },
  {
   "cell_type": "code",
   "execution_count": null,
   "metadata": {},
   "outputs": [],
   "source": [
    "plt.yticks(fontname = 'consolas')\n",
    "#plt.plot(ram_prices.date, ram_prices.price)\n",
    "plt.semilogy(ram_prices.date, ram_prices.price)\n",
    "plt.xlabel(\"년도\")\n",
    "plt.ylabel(\"가격 ($/Mbyte)\")\n",
    "plt.show()"
   ]
  },
  {
   "cell_type": "markdown",
   "metadata": {},
   "source": [
    "- [ ] DT-Q5(d). 학습데이터와 테스트 데이터를 분리하세요.\n",
    "    - 학습 데이터는 1999년까지 데이터를 사용하세요.\n",
    "    - 테스트 데이터는 1999년 이후 데이터를 사용하세요."
   ]
  },
  {
   "cell_type": "code",
   "execution_count": 11,
   "metadata": {
    "id": "9DZhwJoVpK2f"
   },
   "outputs": [],
   "source": [
    "data_train = ram_prices[ram_prices.date < 2000]\n",
    "data_test = ram_prices[ram_prices.date >= 2000]"
   ]
  },
  {
   "cell_type": "markdown",
   "metadata": {},
   "source": [
    "- [ ] DT-Q5(e). 학습데이터와 테스트 데이터를 분류하여 작성하세요.\n",
    "    - y값은 log 함수를 적용하세요."
   ]
  },
  {
   "cell_type": "code",
   "execution_count": 12,
   "metadata": {},
   "outputs": [],
   "source": [
    "X_train = data_train.date.to_numpy()[:, np.newaxis]\n",
    "y_train = np.log(data_train.price)"
   ]
  },
  {
   "cell_type": "markdown",
   "metadata": {},
   "source": [
    "- [ ] DT-Q5(f). 결정트리의 회귀와 선형 회귀 예측기를 생성하고, 데이터에 학습을 진행하세요.\n",
    "    - tree\n",
    "    - linear_reg"
   ]
  },
  {
   "cell_type": "code",
   "execution_count": null,
   "metadata": {},
   "outputs": [],
   "source": [
    "from sklearn.tree import DecisionTreeRegressor\n",
    "from sklearn.linear_model import LinearRegression\n",
    "\n",
    "tree = DecisionTreeRegressor().fit(X_train, y_train)\n",
    "linear_reg = LinearRegression().fit(X_train, y_train)"
   ]
  },
  {
   "cell_type": "markdown",
   "metadata": {},
   "source": [
    "- DT-Q5(g). 두 예측기에 테스트를 진행하세요.\n",
    "    - 테스트에 사용되는 데이터는 모든 데이터를 활용하세요."
   ]
  },
  {
   "cell_type": "code",
   "execution_count": null,
   "metadata": {},
   "outputs": [],
   "source": [
    "X_all = ram_prices.date.to_numpy()[:, np.newaxis]\n",
    "pred_tree = tree.predict(X_all)\n",
    "pred_lr = linear_reg.predict(X_all)\n",
    "\n",
    "print(pred_tree, pred_lr)"
   ]
  },
  {
   "cell_type": "markdown",
   "metadata": {},
   "source": [
    "- DT-Q5(h). 예측된 값을 기존값으로 변환하세요."
   ]
  },
  {
   "cell_type": "code",
   "execution_count": 27,
   "metadata": {},
   "outputs": [],
   "source": [
    "price_tree = np.exp(pred_tree)\n",
    "price_lr = np.exp(pred_lr)"
   ]
  },
  {
   "cell_type": "markdown",
   "metadata": {},
   "source": [
    "- DT-Q5(i). 기존 데이터와 예측 데이터 모두를 시각화하세요."
   ]
  },
  {
   "cell_type": "code",
   "execution_count": null,
   "metadata": {
    "colab": {
     "base_uri": "https://localhost:8080/",
     "height": 430
    },
    "id": "Z_m9Rhp7pK2f",
    "outputId": "e3df909b-c917-4984-c61d-270d5a5e9fd4"
   },
   "outputs": [
    {
     "data": {
      "application/pdf": "[encoded data removed]",
      "image/png": "[encoded data removed]",
      "text/plain": [
       "<Figure size 640x480 with 1 Axes>"
      ]
     },
     "metadata": {},
     "output_type": "display_data"
    }
   ],
   "source": [
    "plt.yticks(fontname = \"consolas\")\n",
    "plt.semilogy(ram_prices.date, ram_prices.price, label = \"RAW 데이터\")\n",
    "plt.semilogy(ram_prices.date, price_tree, label = \"결정트리 예측 데이터\")\n",
    "plt.semilogy(ram_prices.date, price_lr, label = \"선형 예측 데이터\")\n",
    "plt.xlabel(\"년도\")\n",
    "plt.ylabel(\"가격 ($/Mbyte)\")\n",
    "plt.legend()\n",
    "plt.show()"
   ]
  },
  {
   "cell_type": "markdown",
   "metadata": {},
   "source": []
  }
 ],
 "metadata": {
  "colab": {
   "provenance": []
  },
  "environment": {
   "kernel": "python3",
   "name": "common-cpu.m102",
   "type": "gcloud",
   "uri": "gcr.io/deeplearning-platform-release/base-cpu:m102"
  },
  "kernelspec": {
   "display_name": "Python 3",
   "language": "python",
   "name": "python3"
  },
  "language_info": {
   "codemirror_mode": {
    "name": "ipython",
    "version": 3
   },
   "file_extension": ".py",
   "mimetype": "text/x-python",
   "name": "python",
   "nbconvert_exporter": "python",
   "pygments_lexer": "ipython3",
   "version": "3.13.0"
  },
  "latex_metadata": {
   "author": "Andreas C. M\\\"ller",
   "title": "Machine Learning with Python"
  }
 },
 "nbformat": 4,
 "nbformat_minor": 0
}
